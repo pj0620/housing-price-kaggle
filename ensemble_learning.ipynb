{
 "cells": [
  {
   "cell_type": "markdown",
   "id": "551fda94-867b-49dd-8904-25d34e8aff54",
   "metadata": {},
   "source": [
    "# Housing Prices Competition for Kaggle Learn Users\n",
    "\n",
    "My attempt at this [competition](https://www.kaggle.com/competitions/home-data-for-ml-course/data)\n",
    "\n",
    "Trying to incorporate ensemble learning"
   ]
  },
  {
   "cell_type": "markdown",
   "id": "8f90342f-98a1-4120-a5a7-943a960ee76d",
   "metadata": {},
   "source": [
    "## Imports"
   ]
  },
  {
   "cell_type": "code",
   "execution_count": 111,
   "id": "2cac89e5-2ec0-448f-9071-0c42743d0bf8",
   "metadata": {},
   "outputs": [
    {
     "name": "stdout",
     "output_type": "stream",
     "text": [
      "Requirement already satisfied: numpy in /home/pj/miniforge3/envs/jupyterlab/lib/python3.13/site-packages (2.2.2)\n",
      "Requirement already satisfied: pandas in /home/pj/miniforge3/envs/jupyterlab/lib/python3.13/site-packages (2.2.3)\n",
      "Requirement already satisfied: scikit-learn in /home/pj/miniforge3/envs/jupyterlab/lib/python3.13/site-packages (1.6.1)\n",
      "Requirement already satisfied: python-dateutil>=2.8.2 in /home/pj/miniforge3/envs/jupyterlab/lib/python3.13/site-packages (from pandas) (2.9.0.post0)\n",
      "Requirement already satisfied: pytz>=2020.1 in /home/pj/miniforge3/envs/jupyterlab/lib/python3.13/site-packages (from pandas) (2024.2)\n",
      "Requirement already satisfied: tzdata>=2022.7 in /home/pj/miniforge3/envs/jupyterlab/lib/python3.13/site-packages (from pandas) (2025.1)\n",
      "Requirement already satisfied: scipy>=1.6.0 in /home/pj/miniforge3/envs/jupyterlab/lib/python3.13/site-packages (from scikit-learn) (1.15.1)\n",
      "Requirement already satisfied: joblib>=1.2.0 in /home/pj/miniforge3/envs/jupyterlab/lib/python3.13/site-packages (from scikit-learn) (1.4.2)\n",
      "Requirement already satisfied: threadpoolctl>=3.1.0 in /home/pj/miniforge3/envs/jupyterlab/lib/python3.13/site-packages (from scikit-learn) (3.5.0)\n",
      "Requirement already satisfied: six>=1.5 in /home/pj/miniforge3/envs/jupyterlab/lib/python3.13/site-packages (from python-dateutil>=2.8.2->pandas) (1.17.0)\n",
      "Note: you may need to restart the kernel to use updated packages.\n"
     ]
    }
   ],
   "source": [
    "# import sys\n",
    "# !{sys.executable} -m pip install --upgrade kaggle\n",
    "# !conda install -c conda-forge kaggle\n",
    "\n",
    "# !/home/pj/.local/bin/kaggle competitions download -c home-data-for-ml-course\n",
    "\n",
    "# import zipfile\n",
    "# with zipfile.ZipFile(\"home-data-for-ml-course.zip\",\"r\") as zip_ref:\n",
    "#     zip_ref.extractall(\"home-data-for-ml-course\")\n",
    "\n",
    "%pip install numpy pandas scikit-learn\n",
    "\n",
    "import matplotlib.pyplot as plt\n",
    "import numpy as np\n",
    "import pandas as pd\n",
    "\n",
    "%matplotlib inline"
   ]
  },
  {
   "cell_type": "markdown",
   "id": "2692f132-b194-4ade-b816-01c6e8600dc2",
   "metadata": {},
   "source": [
    "## Test/Train Split"
   ]
  },
  {
   "cell_type": "code",
   "execution_count": 91,
   "id": "de1ae13f-7a48-409c-9177-d9dcb743031b",
   "metadata": {},
   "outputs": [
    {
     "data": {
      "text/plain": [
       "(array([[0., 0., 0., ..., 0., 0., 0.],\n",
       "        [0., 0., 0., ..., 0., 0., 0.],\n",
       "        [0., 0., 0., ..., 0., 0., 0.],\n",
       "        ...,\n",
       "        [0., 0., 0., ..., 0., 0., 0.],\n",
       "        [0., 0., 0., ..., 0., 0., 0.],\n",
       "        [0., 0., 0., ..., 0., 0., 0.]], shape=(56000, 784)),\n",
       " array([[0., 0., 0., ..., 0., 0., 0.],\n",
       "        [0., 0., 0., ..., 0., 0., 0.],\n",
       "        [0., 0., 0., ..., 0., 0., 0.],\n",
       "        ...,\n",
       "        [0., 0., 0., ..., 0., 0., 0.],\n",
       "        [0., 0., 0., ..., 0., 0., 0.],\n",
       "        [0., 0., 0., ..., 0., 0., 0.]], shape=(14000, 784)),\n",
       " ['5', '4', '8', '0', '2', ..., '6', '6', '1', '0', '0']\n",
       " Length: 56000\n",
       " Categories (10, object): ['0', '1', '2', '3', ..., '6', '7', '8', '9'],\n",
       " ['8', '4', '8', '7', '7', ..., '3', '5', '2', '7', '1']\n",
       " Length: 14000\n",
       " Categories (10, object): ['0', '1', '2', '3', ..., '6', '7', '8', '9'])"
      ]
     },
     "execution_count": 91,
     "metadata": {},
     "output_type": "execute_result"
    }
   ],
   "source": [
    "from sklearn.model_selection import train_test_split\n",
    "from sklearn.datasets import fetch_openml\n",
    "from sklearn.preprocessing import StandardScaler\n",
    "\n",
    "resp = fetch_openml('mnist_784')\n",
    "data_raw = resp['data'].values\n",
    "labels_raw = resp['target'].values\n",
    "X_train, X_test, y_train, y_test = train_test_split(data_raw, labels_raw, test_size=0.2, random_state=42)\n",
    "\n",
    "scaler = StandardScaler()\n",
    "scaler.fit(X_train)\n",
    "X_train = scaler.transform(X_train)\n",
    "X_test = scaler.transform(X_test)\n",
    "\n",
    "(X_train, X_test, y_train, y_test)"
   ]
  },
  {
   "cell_type": "code",
   "execution_count": 97,
   "id": "fde9ff89-98ed-41b5-b2a4-6eea48264212",
   "metadata": {},
   "outputs": [],
   "source": [
    "# pd.DataFrame(X_train, columns=resp['data'].columns).describe()\n",
    "# np.sum(X_train, axis=0) / X_train.shape[0]"
   ]
  },
  {
   "cell_type": "markdown",
   "id": "cb4a767d-8039-4926-81b3-b8ab8276b8cb",
   "metadata": {},
   "source": [
    "# Pipeline"
   ]
  },
  {
   "cell_type": "markdown",
   "id": "cdde14a6-bd72-47c0-bea5-c38ebfd51420",
   "metadata": {},
   "source": [
    "## Classification Pipelines"
   ]
  },
  {
   "cell_type": "markdown",
   "id": "305ec766-30d4-4ea9-b02d-c6d1457903cd",
   "metadata": {},
   "source": [
    "### Random Forest"
   ]
  },
  {
   "cell_type": "code",
   "execution_count": 98,
   "id": "77ec8b63-a4ee-4d58-a93e-27909f0d8d5a",
   "metadata": {},
   "outputs": [
    {
     "name": "stdout",
     "output_type": "stream",
     "text": [
      "default train err: 1.0\n",
      " default test err: 0.9678571428571429\n"
     ]
    }
   ],
   "source": [
    "from sklearn.ensemble import RandomForestClassifier, RandomForestRegressor\n",
    "from sklearn.ensemble import VotingClassifier\n",
    "from sklearn.linear_model import LogisticRegression\n",
    "from sklearn.svm import SVC\n",
    "from sklearn.model_selection import GridSearchCV\n",
    "from sklearn.metrics import accuracy_score\n",
    "\n",
    "# param_grid = [\n",
    "#   {'n_estimators': [10, 25, 50, 100], 'max_features': [25, 50, 100, 150]},\n",
    "# ]\n",
    "# grid_search = GridSearchCV(\n",
    "#     RandomForestClassifier(), \n",
    "#     param_grid, \n",
    "#     cv=4, \n",
    "#     n_jobs=-1\n",
    "# )\n",
    "# grid_search.fit(X_train, y_train)\n",
    "# (grid_search.best_params_, grid_search.best_estimator_)\n",
    "# results in {'max_features': 50, 'n_estimators': 100}\n",
    "\n",
    "random_forest = RandomForestClassifier(max_features=50, n_estimators=100)\n",
    "random_forest.fit(X_train, y_train)\n",
    "y_pred_train = random_forest.predict(X_train)\n",
    "y_pred_test = random_forest.predict(X_test)\n",
    "\n",
    "print(\"train err:\", accuracy_score(y_train, y_pred_train))\n",
    "print(\" test err:\", accuracy_score(y_test, y_pred_test))"
   ]
  },
  {
   "cell_type": "code",
   "execution_count": 113,
   "id": "604e6f70-0eeb-4050-b3e5-0d260cef19e4",
   "metadata": {},
   "outputs": [
    {
     "name": "stdout",
     "output_type": "stream",
     "text": [
      "train err: 0.9326785714285715\n",
      " test err: 0.9215714285714286\n"
     ]
    }
   ],
   "source": [
    "# param_grid = {\n",
    "#     'C': [0.001, 0.01, 0.1, 1, 10, 100],  # Regularization strength\n",
    "#     'penalty': ['l1', 'l2', 'elasticnet'],  # Regularization type (elasticnet requires 'solver'='saga')\n",
    "#     'max_iter': [100, 200, 500],  # Number of iterations for convergence\n",
    "#     'l1_ratio': [0.1, 0.5, 0.9]  # Only used for elasticnet\n",
    "# }\n",
    "# grid_search = GridSearchCV(\n",
    "#     LogisticRegression(), \n",
    "#     param_grid, \n",
    "#     cv=4, \n",
    "#     n_jobs=-1\n",
    "# )\n",
    "# grid_search.fit(X_train, y_train)\n",
    "# (grid_search.best_params_, grid_search.best_estimator_)\n",
    "# results in {'C': 0.1, 'l1_ratio': 0.1, 'max_iter': 200, 'penalty': 'l2'}\n",
    "\n",
    "# trains = []\n",
    "# tests = []\n",
    "# for max_iter in range(100, 1100, 100):\n",
    "#     log_cls = LogisticRegression(C=0.1, max_iter=max_iter, penalty='l2')\n",
    "#     log_cls.fit(X_train, y_train)\n",
    "#     y_pred_train = log_cls.predict(X_train)\n",
    "#     y_pred_test = log_cls.predict(X_test)\n",
    "\n",
    "#     trains.append(accuracy_score(y_train, y_pred_train))\n",
    "#     tests.append(accuracy_score(y_test, y_pred_test))\n",
    "\n",
    "# plt.plot(trains)\n",
    "# plt.plot(tests)\n",
    "# plt.legend(['train', 'test'])\n",
    "log_cls = LogisticRegression(C=0.1, max_iter=200, penalty='l2')\n",
    "log_cls.fit(X_train, y_train)\n",
    "y_pred_train = log_cls.predict(X_train)\n",
    "y_pred_test = log_cls.predict(X_test)\n",
    "print(\"train err:\", accuracy_score(y_train, y_pred_train))\n",
    "print(\" test err:\", accuracy_score(y_test, y_pred_test))"
   ]
  },
  {
   "cell_type": "code",
   "execution_count": 118,
   "id": "8a86dc4c-b8f6-406d-89f3-aed992370a66",
   "metadata": {},
   "outputs": [
    {
     "name": "stdout",
     "output_type": "stream",
     "text": [
      "train err: 0.9899464285714286\n",
      " test err: 0.9762142857142857\n"
     ]
    }
   ],
   "source": [
    "from sklearn.svm import SVC\n",
    "\n",
    "svc_cls = SVC()\n",
    "svc_cls.fit(X_train, y_train)\n",
    "y_pred_train = svc_cls.predict(X_train)\n",
    "y_pred_test = svc_cls.predict(X_test)\n",
    "print(\"train err:\", accuracy_score(y_train, y_pred_train))\n",
    "print(\" test err:\", accuracy_score(y_test, y_pred_test))\n",
    "#results in "
   ]
  },
  {
   "cell_type": "code",
   "execution_count": null,
   "id": "fc546fbf-0131-42ff-8b92-86d2a49e4ccd",
   "metadata": {},
   "outputs": [],
   "source": []
  }
 ],
 "metadata": {
  "kernelspec": {
   "display_name": "Python 3 (ipykernel)",
   "language": "python",
   "name": "python3"
  },
  "language_info": {
   "codemirror_mode": {
    "name": "ipython",
    "version": 3
   },
   "file_extension": ".py",
   "mimetype": "text/x-python",
   "name": "python",
   "nbconvert_exporter": "python",
   "pygments_lexer": "ipython3",
   "version": "3.13.1"
  }
 },
 "nbformat": 4,
 "nbformat_minor": 5
}
