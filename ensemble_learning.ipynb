{
 "cells": [
  {
   "cell_type": "markdown",
   "id": "551fda94-867b-49dd-8904-25d34e8aff54",
   "metadata": {},
   "source": [
    "# Housing Prices Competition for Kaggle Learn Users\n",
    "\n",
    "My attempt at this [competition](https://www.kaggle.com/competitions/home-data-for-ml-course/data)\n",
    "\n",
    "Trying to incorporate ensemble learning"
   ]
  },
  {
   "cell_type": "markdown",
   "id": "8f90342f-98a1-4120-a5a7-943a960ee76d",
   "metadata": {},
   "source": [
    "## Imports"
   ]
  },
  {
   "cell_type": "code",
   "execution_count": 11,
   "id": "2cac89e5-2ec0-448f-9071-0c42743d0bf8",
   "metadata": {},
   "outputs": [
    {
     "name": "stdout",
     "output_type": "stream",
     "text": [
      "Requirement already satisfied: numpy in /home/pj/miniforge3/envs/jupyterlab/lib/python3.13/site-packages (2.2.2)\n",
      "Requirement already satisfied: pandas in /home/pj/miniforge3/envs/jupyterlab/lib/python3.13/site-packages (2.2.3)\n",
      "Collecting scikit-learn\n",
      "  Downloading scikit_learn-1.6.1-cp313-cp313-manylinux_2_17_x86_64.manylinux2014_x86_64.whl.metadata (18 kB)\n",
      "Requirement already satisfied: python-dateutil>=2.8.2 in /home/pj/miniforge3/envs/jupyterlab/lib/python3.13/site-packages (from pandas) (2.9.0.post0)\n",
      "Requirement already satisfied: pytz>=2020.1 in /home/pj/miniforge3/envs/jupyterlab/lib/python3.13/site-packages (from pandas) (2024.2)\n",
      "Requirement already satisfied: tzdata>=2022.7 in /home/pj/miniforge3/envs/jupyterlab/lib/python3.13/site-packages (from pandas) (2025.1)\n",
      "Collecting scipy>=1.6.0 (from scikit-learn)\n",
      "  Downloading scipy-1.15.1-cp313-cp313-manylinux_2_17_x86_64.manylinux2014_x86_64.whl.metadata (61 kB)\n",
      "Collecting joblib>=1.2.0 (from scikit-learn)\n",
      "  Using cached joblib-1.4.2-py3-none-any.whl.metadata (5.4 kB)\n",
      "Collecting threadpoolctl>=3.1.0 (from scikit-learn)\n",
      "  Using cached threadpoolctl-3.5.0-py3-none-any.whl.metadata (13 kB)\n",
      "Requirement already satisfied: six>=1.5 in /home/pj/miniforge3/envs/jupyterlab/lib/python3.13/site-packages (from python-dateutil>=2.8.2->pandas) (1.17.0)\n",
      "Downloading scikit_learn-1.6.1-cp313-cp313-manylinux_2_17_x86_64.manylinux2014_x86_64.whl (13.2 MB)\n",
      "\u001b[2K   \u001b[90m━━━━━━━━━━━━━━━━━━━━━━━━━━━━━━━━━━━━━━━━\u001b[0m \u001b[32m13.2/13.2 MB\u001b[0m \u001b[31m23.3 MB/s\u001b[0m eta \u001b[36m0:00:00\u001b[0m \u001b[36m0:00:01\u001b[0m\n",
      "\u001b[?25hUsing cached joblib-1.4.2-py3-none-any.whl (301 kB)\n",
      "Downloading scipy-1.15.1-cp313-cp313-manylinux_2_17_x86_64.manylinux2014_x86_64.whl (40.2 MB)\n",
      "\u001b[2K   \u001b[90m━━━━━━━━━━━━━━━━━━━━━━━━━━━━━━━━━━━━━━━━\u001b[0m \u001b[32m40.2/40.2 MB\u001b[0m \u001b[31m22.4 MB/s\u001b[0m eta \u001b[36m0:00:00\u001b[0ma \u001b[36m0:00:01\u001b[0m\n",
      "\u001b[?25hUsing cached threadpoolctl-3.5.0-py3-none-any.whl (18 kB)\n",
      "Installing collected packages: threadpoolctl, scipy, joblib, scikit-learn\n",
      "Successfully installed joblib-1.4.2 scikit-learn-1.6.1 scipy-1.15.1 threadpoolctl-3.5.0\n",
      "Note: you may need to restart the kernel to use updated packages.\n"
     ]
    }
   ],
   "source": [
    "# import sys\n",
    "# !{sys.executable} -m pip install --upgrade kaggle\n",
    "# !conda install -c conda-forge kaggle\n",
    "\n",
    "# !/home/pj/.local/bin/kaggle competitions download -c home-data-for-ml-course\n",
    "\n",
    "# import zipfile\n",
    "# with zipfile.ZipFile(\"home-data-for-ml-course.zip\",\"r\") as zip_ref:\n",
    "#     zip_ref.extractall(\"home-data-for-ml-course\")\n",
    "\n",
    "%pip install numpy pandas scikit-learn\n",
    "\n",
    "import numpy as np\n",
    "import pandas as pd"
   ]
  },
  {
   "cell_type": "markdown",
   "id": "2692f132-b194-4ade-b816-01c6e8600dc2",
   "metadata": {},
   "source": [
    "## Test/Train Split"
   ]
  },
  {
   "cell_type": "code",
   "execution_count": 71,
   "id": "de1ae13f-7a48-409c-9177-d9dcb743031b",
   "metadata": {},
   "outputs": [
    {
     "data": {
      "text/plain": [
       "(array([[0, 0, 0, ..., 0, 0, 0],\n",
       "        [0, 0, 0, ..., 0, 0, 0],\n",
       "        [0, 0, 0, ..., 0, 0, 0],\n",
       "        ...,\n",
       "        [0, 0, 0, ..., 0, 0, 0],\n",
       "        [0, 0, 0, ..., 0, 0, 0],\n",
       "        [0, 0, 0, ..., 0, 0, 0]], shape=(56000, 784)),\n",
       " array([[0, 0, 0, ..., 0, 0, 0],\n",
       "        [0, 0, 0, ..., 0, 0, 0],\n",
       "        [0, 0, 0, ..., 0, 0, 0],\n",
       "        ...,\n",
       "        [0, 0, 0, ..., 0, 0, 0],\n",
       "        [0, 0, 0, ..., 0, 0, 0],\n",
       "        [0, 0, 0, ..., 0, 0, 0]], shape=(14000, 784)),\n",
       " ['5', '4', '8', '0', '2', ..., '6', '6', '1', '0', '0']\n",
       " Length: 56000\n",
       " Categories (10, object): ['0', '1', '2', '3', ..., '6', '7', '8', '9'],\n",
       " ['8', '4', '8', '7', '7', ..., '3', '5', '2', '7', '1']\n",
       " Length: 14000\n",
       " Categories (10, object): ['0', '1', '2', '3', ..., '6', '7', '8', '9'])"
      ]
     },
     "execution_count": 71,
     "metadata": {},
     "output_type": "execute_result"
    }
   ],
   "source": [
    "from sklearn.model_selection import train_test_split\n",
    "from sklearn.datasets import fetch_openml\n",
    "\n",
    "resp = fetch_openml('mnist_784')\n",
    "data_raw = resp['data'].values\n",
    "labels_raw = resp['target'].values\n",
    "X_train, X_test, y_train, y_test = train_test_split(data_raw, labels_raw, test_size=0.2, random_state=42)\n",
    "\n",
    "(X_train, X_test, y_train, y_test)"
   ]
  },
  {
   "cell_type": "markdown",
   "id": "cb4a767d-8039-4926-81b3-b8ab8276b8cb",
   "metadata": {},
   "source": [
    "# Pipeline"
   ]
  },
  {
   "cell_type": "markdown",
   "id": "cdde14a6-bd72-47c0-bea5-c38ebfd51420",
   "metadata": {},
   "source": [
    "## Classification Pipelines"
   ]
  },
  {
   "cell_type": "markdown",
   "id": "305ec766-30d4-4ea9-b02d-c6d1457903cd",
   "metadata": {},
   "source": [
    "### Random Forest"
   ]
  },
  {
   "cell_type": "code",
   "execution_count": 78,
   "id": "77ec8b63-a4ee-4d58-a93e-27909f0d8d5a",
   "metadata": {},
   "outputs": [
    {
     "name": "stdout",
     "output_type": "stream",
     "text": [
      "default train err: 1.0\n",
      " default test err: 0.9683571428571428\n"
     ]
    }
   ],
   "source": [
    "from sklearn.ensemble import RandomForestClassifier, RandomForestRegressor\n",
    "from sklearn.ensemble import VotingClassifier\n",
    "from sklearn.linear_model import LogisticRegression\n",
    "from sklearn.svm import SVC\n",
    "from sklearn.model_selection import GridSearchCV\n",
    "from sklearn.metrics import accuracy_score\n",
    "\n",
    "# param_grid = [\n",
    "#   {'n_estimators': [10, 25, 50, 100], 'max_features': [25, 50, 100, 150]},\n",
    "# ]\n",
    "# grid_search = GridSearchCV(\n",
    "#     RandomForestClassifier(), \n",
    "#     param_grid, \n",
    "#     cv=4, \n",
    "#     n_jobs=-1\n",
    "# )\n",
    "# grid_search.fit(X_train, y_train)\n",
    "# (grid_search.best_params_, grid_search.best_estimator_)\n",
    "# results in {'max_features': 50, 'n_estimators': 100}\n",
    "\n",
    "random_forest = RandomForestClassifier(max_features=50, n_estimators=100)\n",
    "random_forest.fit(X_train, y_train)\n",
    "y_pred_train = random_forest.predict(X_train)\n",
    "y_pred_test = random_forest.predict(X_test)\n",
    "\n",
    "print(\"default train err:\", accuracy_score(y_train, y_pred_train))\n",
    "print(\" default test err:\", accuracy_score(y_test, y_pred_test))"
   ]
  },
  {
   "cell_type": "code",
   "execution_count": null,
   "id": "604e6f70-0eeb-4050-b3e5-0d260cef19e4",
   "metadata": {},
   "outputs": [],
   "source": [
    "## "
   ]
  }
 ],
 "metadata": {
  "kernelspec": {
   "display_name": "Python 3 (ipykernel)",
   "language": "python",
   "name": "python3"
  },
  "language_info": {
   "codemirror_mode": {
    "name": "ipython",
    "version": 3
   },
   "file_extension": ".py",
   "mimetype": "text/x-python",
   "name": "python",
   "nbconvert_exporter": "python",
   "pygments_lexer": "ipython3",
   "version": "3.13.1"
  }
 },
 "nbformat": 4,
 "nbformat_minor": 5
}
